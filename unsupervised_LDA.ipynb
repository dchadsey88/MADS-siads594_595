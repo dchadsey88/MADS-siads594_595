{
 "cells": [
  {
   "cell_type": "code",
   "execution_count": 33,
   "metadata": {},
   "outputs": [],
   "source": [
    "import pandas as pd\n",
    "from sklearn.feature_extraction.text import CountVectorizer\n",
    "import re\n",
    "import numpy as np\n",
    "import nltk\n",
    "import spacy\n",
    "import gensim\n",
    "from sklearn.decomposition import LatentDirichletAllocation\n",
    "import matplotlib.pyplot as plt\n",
    "%matplotlib inline"
   ]
  },
  {
   "cell_type": "code",
   "execution_count": 34,
   "metadata": {},
   "outputs": [],
   "source": [
    "import warnings\n",
    "warnings.filterwarnings(\"ignore\",category=DeprecationWarning)"
   ]
  },
  {
   "cell_type": "markdown",
   "metadata": {},
   "source": [
    "### Load data with simple cleaning functions"
   ]
  },
  {
   "cell_type": "code",
   "execution_count": 35,
   "metadata": {},
   "outputs": [],
   "source": [
    "def clean(row):\n",
    "    # remove starting character b and starting and ending quotes\n",
    "    row = row.lstrip(\"b\").strip(\"\\'\").strip('/\"').strip()\n",
    "    row = row.replace('\\\\n','') # remove new line characters\n",
    "    row = row.replace('&amp;',  'and') # replace ampersand symbol with and\n",
    "    row = row.replace(\"\\\\\", '') # remove backslashes\n",
    "    row = row.replace(\"' \", \" \").replace(\" '\", \" \") # remove quotes inside headlines\n",
    "    row = row.replace('|', '') # remove pip character\n",
    "    return row\n",
    "\n",
    "def load_headlines():\n",
    "    headlines_df = pd.read_csv('./archive/RedditNews.csv')\n",
    "    headlines_df = headlines_df[headlines_df['Date'] > '2008-08-08']\n",
    "    headlines_df['News'] = headlines_df['News'].apply(lambda row: clean(row))\n",
    "    headlines_df = headlines_df.drop_duplicates()\n",
    "    return headlines_df"
   ]
  },
  {
   "cell_type": "code",
   "execution_count": 73,
   "metadata": {},
   "outputs": [],
   "source": [
    "headlines_df = load_headlines()"
   ]
  },
  {
   "cell_type": "code",
   "execution_count": 86,
   "metadata": {},
   "outputs": [
    {
     "data": {
      "text/plain": [
       "News\n",
       "25      2836\n",
       "24        37\n",
       "23         5\n",
       "50         2\n",
       "22         1\n",
       "dtype: int64"
      ]
     },
     "execution_count": 86,
     "metadata": {},
     "output_type": "execute_result"
    }
   ],
   "source": [
    "headlines_df.groupby('Date').count().value_counts()"
   ]
  },
  {
   "cell_type": "code",
   "execution_count": 92,
   "metadata": {},
   "outputs": [
    {
     "data": {
      "text/plain": [
       "Text(0.5, 1.0, 'Number of Words per News Headline Histogram')"
      ]
     },
     "execution_count": 92,
     "metadata": {},
     "output_type": "execute_result"
    },
    {
     "data": {
      "image/png": "[encoded data removed]",
      "text/plain": [
       "<Figure size 432x288 with 1 Axes>"
      ]
     },
     "metadata": {
      "needs_background": "light"
     },
     "output_type": "display_data"
    }
   ],
   "source": [
    "headlines_df['News'].apply(lambda x: len(x.split())).hist();\n",
    "plt.xlabel('Number of Words in Each Headline')\n",
    "plt.ylabel('Number of headlines')\n",
    "plt.title('Number of Words per News Headline Histogram')"
   ]
  },
  {
   "cell_type": "code",
   "execution_count": 95,
   "metadata": {},
   "outputs": [
    {
     "data": {
      "text/plain": [
       "(17.606775425199583, 11.413049858132041, 2, 64)"
      ]
     },
     "execution_count": 95,
     "metadata": {},
     "output_type": "execute_result"
    }
   ],
   "source": [
    "mean_len = headlines_df['News'].apply(lambda x: len(x.split())).mean()\n",
    "std_len = headlines_df['News'].apply(lambda x: len(x.split())).std()\n",
    "min_len = headlines_df['News'].apply(lambda x: len(x.split())).min()\n",
    "max_len = headlines_df['News'].apply(lambda x: len(x.split())).max()\n",
    "\n",
    "mean_len, std_len, min_len, max_len"
   ]
  },
  {
   "cell_type": "code",
   "execution_count": 98,
   "metadata": {},
   "outputs": [],
   "source": [
    "dija_df = pd.read_csv('./archive/Combined_News_DJIA.csv')"
   ]
  },
  {
   "cell_type": "code",
   "execution_count": 102,
   "metadata": {},
   "outputs": [
    {
     "data": {
      "text/plain": [
       "1989"
      ]
     },
     "execution_count": 102,
     "metadata": {},
     "output_type": "execute_result"
    }
   ],
   "source": [
    "dija_df['Date'].nunique()"
   ]
  },
  {
   "cell_type": "markdown",
   "metadata": {
    "tags": []
   },
   "source": [
    "### Tokenization and lemmatization with Gensim and Spacy"
   ]
  },
  {
   "cell_type": "code",
   "execution_count": 36,
   "metadata": {},
   "outputs": [],
   "source": [
    "from tqdm import tqdm\n",
    "def tokenize_headlines(headlines):\n",
    "    for headline in headlines:\n",
    "        yield(gensim.utils.simple_preprocess(str(headline), deacc=True))\n",
    "        \n",
    "def lemmatization(texts, allowed_postags=['NOUN', 'ADJ', 'VERB', 'ADV']):\n",
    "    \"\"\"https://spacy.io/api/annotation\"\"\"\n",
    "    texts_out = []\n",
    "    for sent in tqdm(texts):\n",
    "        doc = nlp(\" \".join(sent)) \n",
    "        texts_out.append(\" \".join([token.lemma_ if token.lemma_ not in ['-PRON-'] else '' for token in doc if token.pos_ in allowed_postags]))\n",
    "    return texts_out\n",
    "\n",
    "nlp = spacy.load('en_core_web_sm', disable=['parser', 'ner'])"
   ]
  },
  {
   "cell_type": "markdown",
   "metadata": {},
   "source": [
    "### Vectorize headlines with CountVectorizer"
   ]
  },
  {
   "cell_type": "code",
   "execution_count": 30,
   "metadata": {},
   "outputs": [],
   "source": [
    "def get_vectorized_data():\n",
    "    #load data withs imple clearning\n",
    "    headlines_df = load_headlines()\n",
    "    headlines = headlines_df['News'].values.tolist()\n",
    "    print('headlines loaded')\n",
    "    \n",
    "    # tokenize data\n",
    "    headline_words = list(tokenize_headlines(headlines))\n",
    "    print('headlines tokenized')\n",
    "    \n",
    "    # lamatize data\n",
    "    headline_lemmatized = lemmatization(headline_words, allowed_postags=['NOUN', 'ADJ', 'VERB', 'ADV'])\n",
    "    print('healines lemmatized')\n",
    "    \n",
    "    #vectorize text with count vectorizer\n",
    "    vectorizer =  CountVectorizer(stop_words='english')\n",
    "    headline_vectorized = vectorizer.fit_transform(headline_lemmatized)\n",
    "    tf_feature_names = vectorizer.get_feature_names_out()\n",
    "    print(\"headlines vectorized\")\n",
    "    \n",
    "    # # Determine sparcity of the matrix\n",
    "    # data_dense = headline_vectorized.todense()\n",
    "    # # Compute Sparsicity = Percentage of Non-Zero cells\n",
    "    # print(\"Sparsicity: \", ((data_dense > 0).sum()/data_dense.size)*100, \"%\")\n",
    "    \n",
    "    return headline_vectorized, tf_feature_names"
   ]
  },
  {
   "cell_type": "markdown",
   "metadata": {
    "tags": []
   },
   "source": [
    "### Function to run LDA with num_topics paramter"
   ]
  },
  {
   "cell_type": "code",
   "execution_count": 31,
   "metadata": {},
   "outputs": [],
   "source": [
    "def run_lda(num_topics, vectorized_text):\n",
    "    lda = LatentDirichletAllocation(n_components=num_topics, random_state = 42, n_jobs = -1)\n",
    "    lda.fit_transform(vectorized_text)\n",
    "    return lda"
   ]
  },
  {
   "cell_type": "markdown",
   "metadata": {
    "tags": []
   },
   "source": [
    "#### Print the top n words from each topic"
   ]
  },
  {
   "cell_type": "code",
   "execution_count": null,
   "metadata": {},
   "outputs": [],
   "source": [
    "# num_top_words = 8\n",
    "\n",
    "# def display_topics(model, feature_names, no_top_words):\n",
    "#     for topic_idx, topic in enumerate(model.components_):\n",
    "#         term_list = [feature_names[i]\n",
    "#                         for i in topic.argsort()[:-no_top_words - 1:-1]]\n",
    "#         print(\"topic %d:\" % (topic_idx), term_list)\n",
    "\n",
    "\n",
    "# display_topics(lda_model, tf_feature_names, num_top_words)"
   ]
  },
  {
   "cell_type": "markdown",
   "metadata": {
    "tags": []
   },
   "source": [
    "#### Print the headline most associated with each topic"
   ]
  },
  {
   "cell_type": "code",
   "execution_count": 38,
   "metadata": {},
   "outputs": [],
   "source": [
    "# best_document_per_topic = np.argsort(lda_output, axis = 0)[::-1]\n",
    "# for topic_index in range(0, 10):\n",
    "#     best_index = best_document_per_topic[0, topic_index]\n",
    "#     print(\"Highest topic\", topic_index, \"weight is document\", \n",
    "#           best_index, \":\", headline_lemmatized[best_index][0:20])"
   ]
  },
  {
   "cell_type": "markdown",
   "metadata": {
    "tags": []
   },
   "source": [
    "### Combine lda_output with dates and target to get features for supervised learning"
   ]
  },
  {
   "cell_type": "code",
   "execution_count": 127,
   "metadata": {},
   "outputs": [],
   "source": [
    "def get_training_data(lda_output):\n",
    "    # merge the vectors back with the corresponding dates\n",
    "    headlines_df = load_headlines() \n",
    "    df = pd.DataFrame(lda_output, index = headlines_df['Date'].tolist()).reset_index().rename(columns = {'index' : 'Date'})\n",
    "    # group the news vecs by their date and take the avergae of the vectors\n",
    "    df = df.groupby('Date').mean()\n",
    "    # load the targets and merge these to the vectors.  Drop all dates that don't have a target (days without tading)\n",
    "    y = pd.read_csv('./archive/Combined_News_DJIA.csv')\n",
    "    df = df.merge(right = y[['Date', 'Label']], left_index= True, right_on = 'Date')\n",
    "\n",
    "    X = df.drop(columns = ['Date', 'Label'])\n",
    "    y = df['Label']\n",
    "    \n",
    "    return X, y"
   ]
  },
  {
   "cell_type": "markdown",
   "metadata": {},
   "source": [
    "### Supervised learning with topic-weights"
   ]
  },
  {
   "cell_type": "code",
   "execution_count": 145,
   "metadata": {},
   "outputs": [],
   "source": [
    "from sklearn.linear_model import LogisticRegression\n",
    "from sklearn.ensemble import RandomForestClassifier\n",
    "from sklearn.svm import SVC\n",
    "from xgboost import XGBClassifier\n",
    "from sklearn.metrics import f1_score\n",
    "from sklearn.model_selection import cross_validate, train_test_split\n",
    "from sklearn.dummy import DummyClassifier"
   ]
  },
  {
   "cell_type": "code",
   "execution_count": 166,
   "metadata": {},
   "outputs": [],
   "source": [
    "estimators ={\n",
    "    'base': DummyClassifier(strategy='most_frequent'),\n",
    "    'log_reg' : LogisticRegression(),\n",
    "    'rand_for' : RandomForestClassifier(),\n",
    "    'svc' : SVC(),\n",
    "    'xg_boost' : XGBClassifier(use_label_encoder=False)\n",
    "}\n",
    "\n",
    "def cross_vall_lda(X, y):\n",
    "\n",
    "    cv_results = dict()\n",
    "    for clf in estimators:\n",
    "        results = cross_validate(estimators[clf], X, y, cv = 5, scoring = 'f1', n_jobs = -1)\n",
    "        cv_results[clf] = results['test_score'].mean()\n",
    "\n",
    "    return cv_results\n"
   ]
  },
  {
   "cell_type": "code",
   "execution_count": 182,
   "metadata": {
    "tags": []
   },
   "outputs": [],
   "source": [
    "def pipeline(headline_vectorized, num_topics):\n",
    "    pipeline_results = dict()\n",
    "    # get vectorized data\n",
    "\n",
    "    # Train lda model for each value in num_topics\n",
    "    for i in num_topics:\n",
    "        lda_model = run_lda(num_topics = i, vectorized_text = headline_vectorized)\n",
    "        \n",
    "        # Transform headlines_vectorized to get topic weights per headlines\n",
    "        lda_output = lda_model.transform(headline_vectorized)\n",
    "        \n",
    "        # get X and y from lda output\n",
    "        X, y = get_training_data(lda_output = lda_output)\n",
    "\n",
    "        cv_results = cross_vall_lda(X, y)\n",
    "\n",
    "        pipeline_results[i] = cv_results\n",
    "        print(f'Done with {i} topics')\n",
    "        \n",
    "    return pipeline_results"
   ]
  },
  {
   "cell_type": "code",
   "execution_count": null,
   "metadata": {},
   "outputs": [],
   "source": [
    "headline_vectorized, tf_feature_names = get_vectorized_data()"
   ]
  },
  {
   "cell_type": "code",
   "execution_count": 115,
   "metadata": {},
   "outputs": [],
   "source": [
    "values = ['Topic ' + str(i+1) for i in range(20)]\n",
    "keys = [i for i in range(20)]\n",
    "new_columns = dict(zip(keys, values))"
   ]
  },
  {
   "cell_type": "code",
   "execution_count": null,
   "metadata": {},
   "outputs": [],
   "source": []
  },
  {
   "cell_type": "code",
   "execution_count": 122,
   "metadata": {},
   "outputs": [
    {
     "data": {
      "text/html": [
       "<div>\n",
       "<style scoped>\n",
       "    .dataframe tbody tr th:only-of-type {\n",
       "        vertical-align: middle;\n",
       "    }\n",
       "\n",
       "    .dataframe tbody tr th {\n",
       "        vertical-align: top;\n",
       "    }\n",
       "\n",
       "    .dataframe thead th {\n",
       "        text-align: right;\n",
       "    }\n",
       "</style>\n",
       "<table border=\"1\" class=\"dataframe\">\n",
       "  <thead>\n",
       "    <tr style=\"text-align: right;\">\n",
       "      <th></th>\n",
       "      <th>Topic 1</th>\n",
       "      <th>Topic 2</th>\n",
       "      <th>Topic 3</th>\n",
       "      <th>Topic 4</th>\n",
       "      <th>Topic 5</th>\n",
       "      <th>Topic 6</th>\n",
       "      <th>Topic 7</th>\n",
       "      <th>Topic 8</th>\n",
       "      <th>Topic 9</th>\n",
       "      <th>Topic 10</th>\n",
       "      <th>Topic 11</th>\n",
       "      <th>Topic 12</th>\n",
       "      <th>Topic 13</th>\n",
       "      <th>Topic 14</th>\n",
       "      <th>Topic 15</th>\n",
       "      <th>Topic 16</th>\n",
       "      <th>Topic 17</th>\n",
       "      <th>Topic 18</th>\n",
       "      <th>Topic 19</th>\n",
       "      <th>Topic 20</th>\n",
       "    </tr>\n",
       "  </thead>\n",
       "  <tbody>\n",
       "    <tr>\n",
       "      <th>headline 1</th>\n",
       "      <td>0.003333</td>\n",
       "      <td>0.003333</td>\n",
       "      <td>0.702796</td>\n",
       "      <td>0.003333</td>\n",
       "      <td>0.003333</td>\n",
       "      <td>0.003333</td>\n",
       "      <td>0.237204</td>\n",
       "      <td>0.003333</td>\n",
       "      <td>0.003333</td>\n",
       "      <td>0.003333</td>\n",
       "      <td>0.003333</td>\n",
       "      <td>0.003333</td>\n",
       "      <td>0.003333</td>\n",
       "      <td>0.003333</td>\n",
       "      <td>0.003333</td>\n",
       "      <td>0.003333</td>\n",
       "      <td>0.003333</td>\n",
       "      <td>0.003333</td>\n",
       "      <td>0.003333</td>\n",
       "      <td>0.003333</td>\n",
       "    </tr>\n",
       "    <tr>\n",
       "      <th>headline 2</th>\n",
       "      <td>0.008333</td>\n",
       "      <td>0.008333</td>\n",
       "      <td>0.008333</td>\n",
       "      <td>0.008333</td>\n",
       "      <td>0.008333</td>\n",
       "      <td>0.008333</td>\n",
       "      <td>0.008333</td>\n",
       "      <td>0.008333</td>\n",
       "      <td>0.008333</td>\n",
       "      <td>0.008333</td>\n",
       "      <td>0.008333</td>\n",
       "      <td>0.008333</td>\n",
       "      <td>0.008333</td>\n",
       "      <td>0.671826</td>\n",
       "      <td>0.178174</td>\n",
       "      <td>0.008333</td>\n",
       "      <td>0.008333</td>\n",
       "      <td>0.008333</td>\n",
       "      <td>0.008333</td>\n",
       "      <td>0.008333</td>\n",
       "    </tr>\n",
       "    <tr>\n",
       "      <th>headline 3</th>\n",
       "      <td>0.012500</td>\n",
       "      <td>0.012500</td>\n",
       "      <td>0.012500</td>\n",
       "      <td>0.012500</td>\n",
       "      <td>0.012500</td>\n",
       "      <td>0.012500</td>\n",
       "      <td>0.012500</td>\n",
       "      <td>0.012500</td>\n",
       "      <td>0.012500</td>\n",
       "      <td>0.012500</td>\n",
       "      <td>0.762500</td>\n",
       "      <td>0.012500</td>\n",
       "      <td>0.012500</td>\n",
       "      <td>0.012500</td>\n",
       "      <td>0.012500</td>\n",
       "      <td>0.012500</td>\n",
       "      <td>0.012500</td>\n",
       "      <td>0.012500</td>\n",
       "      <td>0.012500</td>\n",
       "      <td>0.012500</td>\n",
       "    </tr>\n",
       "    <tr>\n",
       "      <th>headline 4</th>\n",
       "      <td>0.002941</td>\n",
       "      <td>0.002941</td>\n",
       "      <td>0.002941</td>\n",
       "      <td>0.002941</td>\n",
       "      <td>0.002941</td>\n",
       "      <td>0.088950</td>\n",
       "      <td>0.651310</td>\n",
       "      <td>0.002941</td>\n",
       "      <td>0.002941</td>\n",
       "      <td>0.002941</td>\n",
       "      <td>0.002941</td>\n",
       "      <td>0.002941</td>\n",
       "      <td>0.209740</td>\n",
       "      <td>0.002941</td>\n",
       "      <td>0.002941</td>\n",
       "      <td>0.002941</td>\n",
       "      <td>0.002941</td>\n",
       "      <td>0.002941</td>\n",
       "      <td>0.002941</td>\n",
       "      <td>0.002941</td>\n",
       "    </tr>\n",
       "    <tr>\n",
       "      <th>headline 5</th>\n",
       "      <td>0.007143</td>\n",
       "      <td>0.007143</td>\n",
       "      <td>0.007143</td>\n",
       "      <td>0.181679</td>\n",
       "      <td>0.007143</td>\n",
       "      <td>0.007143</td>\n",
       "      <td>0.007143</td>\n",
       "      <td>0.159747</td>\n",
       "      <td>0.007143</td>\n",
       "      <td>0.007143</td>\n",
       "      <td>0.007143</td>\n",
       "      <td>0.537145</td>\n",
       "      <td>0.007143</td>\n",
       "      <td>0.007143</td>\n",
       "      <td>0.007143</td>\n",
       "      <td>0.007143</td>\n",
       "      <td>0.007143</td>\n",
       "      <td>0.007143</td>\n",
       "      <td>0.007143</td>\n",
       "      <td>0.007143</td>\n",
       "    </tr>\n",
       "  </tbody>\n",
       "</table>\n",
       "</div>"
      ],
      "text/plain": [
       "             Topic 1   Topic 2   Topic 3   Topic 4   Topic 5   Topic 6  \\\n",
       "headline 1  0.003333  0.003333  0.702796  0.003333  0.003333  0.003333   \n",
       "headline 2  0.008333  0.008333  0.008333  0.008333  0.008333  0.008333   \n",
       "headline 3  0.012500  0.012500  0.012500  0.012500  0.012500  0.012500   \n",
       "headline 4  0.002941  0.002941  0.002941  0.002941  0.002941  0.088950   \n",
       "headline 5  0.007143  0.007143  0.007143  0.181679  0.007143  0.007143   \n",
       "\n",
       "             Topic 7   Topic 8   Topic 9  Topic 10  Topic 11  Topic 12  \\\n",
       "headline 1  0.237204  0.003333  0.003333  0.003333  0.003333  0.003333   \n",
       "headline 2  0.008333  0.008333  0.008333  0.008333  0.008333  0.008333   \n",
       "headline 3  0.012500  0.012500  0.012500  0.012500  0.762500  0.012500   \n",
       "headline 4  0.651310  0.002941  0.002941  0.002941  0.002941  0.002941   \n",
       "headline 5  0.007143  0.159747  0.007143  0.007143  0.007143  0.537145   \n",
       "\n",
       "            Topic 13  Topic 14  Topic 15  Topic 16  Topic 17  Topic 18  \\\n",
       "headline 1  0.003333  0.003333  0.003333  0.003333  0.003333  0.003333   \n",
       "headline 2  0.008333  0.671826  0.178174  0.008333  0.008333  0.008333   \n",
       "headline 3  0.012500  0.012500  0.012500  0.012500  0.012500  0.012500   \n",
       "headline 4  0.209740  0.002941  0.002941  0.002941  0.002941  0.002941   \n",
       "headline 5  0.007143  0.007143  0.007143  0.007143  0.007143  0.007143   \n",
       "\n",
       "            Topic 19  Topic 20  \n",
       "headline 1  0.003333  0.003333  \n",
       "headline 2  0.008333  0.008333  \n",
       "headline 3  0.012500  0.012500  \n",
       "headline 4  0.002941  0.002941  \n",
       "headline 5  0.007143  0.007143  "
      ]
     },
     "execution_count": 122,
     "metadata": {},
     "output_type": "execute_result"
    }
   ],
   "source": [
    "# Sample to see the topic weights for each headline\n",
    "lda_model = run_lda(num_topics = 20, vectorized_text = headline_vectorized)\n",
    "lda_output = lda_model.transform(headline_vectorized)\n",
    "pd.DataFrame(lda_output).head().rename(columns = new_columns, index= {0: 'headline 1', 1: 'headline 2', 2: 'headline 3', 3: 'headline 4', 4: 'headline 5'} )"
   ]
  },
  {
   "cell_type": "code",
   "execution_count": 125,
   "metadata": {},
   "outputs": [
    {
     "name": "stdout",
     "output_type": "stream",
     "text": [
      "topic 0: ['internet', 'government', 'access', 'online', 'freedom', 'website', 'datum', 'user', 'site', 'facebook']\n",
      "topic 1: ['ban', 'oil', 'block', 'marriage', 'sale', 'spill', 'arm', 'say', 'company', 'destroy']\n",
      "topic 2: ['year', 'old', 'man', 'sentence', 'death', 'ship', 'shoot', 'prison', 'murder', 'girl']\n",
      "topic 3: ['state', 'drug', 'islamic', 'school', 'muslim', 'group', 'christian', 'kill', 'say', 'iraqi']\n",
      "topic 4: ['child', 'abuse', 'police', 'say', 'photo', 'riot', 'video', 'torture', 'beat', 'sex']\n",
      "topic 5: ['hit', 'kill', 'chinese', 'people', 'water', 'die', 'bomb', 'dead', 'earthquake', 'city']\n",
      "topic 6: ['woman', 'right', 'human', 'rape', 'man', 'say', 'sex', 'law', 'case', 'migrant']\n",
      "topic 7: ['news', 'british', 'mass', 'phone', 'scandal', 'money', 'company', 'hack', 'world', 'fund']\n",
      "topic 8: ['food', 'refugee', 'make', 'iceland', 'say', 'bank', 'use', 'sell', 'child', 'debt']\n",
      "topic 9: ['world', 'global', 'say', 'year', 'change', 'country', 'new', 'scientist', 'large', 'climate']\n",
      "topic 10: ['vote', 'election', 'win', 'party', 'parliament', 'support', 'gay', 'anti', 'saudi', 'right']\n",
      "topic 11: ['israeli', 'nuclear', 'palestinian', 'power', 'plant', 'say', 'talk', 'attack', 'peace', 'build']\n",
      "topic 12: ['kill', 'strike', 'force', 'air', 'test', 'say', 'church', 'woman', 'space', 'civilian']\n",
      "topic 13: ['war', 'declare', 'military', 'say', 'prepare', 'civil', 'government', 'crime', 'drug', 'genocide']\n",
      "topic 14: ['protest', 'police', 'protester', 'thousand', 'arrest', 'president', 'government', 'korean', 'north', 'street']\n",
      "topic 15: ['pay', 'tax', 'death', 'minister', 'court', 'new', 'law', 'country', 'government', 'bank']\n",
      "topic 16: ['say', 'suicide', 'kill', 'visit', 'bomber', 'come', 'tv', 'energy', 'mp', 'elephant']\n",
      "topic 17: ['isis', 'syrian', 'spy', 'say', 'rebel', 'kill', 'attack', 'secret', 'turkish', 'intelligence']\n",
      "topic 18: ['wikileak', 'face', 'say', 'crime', 'trial', 'charge', 'assange', 'country', 'killing', 'criminal']\n",
      "topic 19: ['russian', 'troop', 'military', 'ukraine', 'soldier', 'border', 'force', 'army', 'send', 'deal']\n"
     ]
    }
   ],
   "source": [
    "num_top_words = 10\n",
    "\n",
    "def display_topics(model, feature_names, no_top_words):\n",
    "    for topic_idx, topic in enumerate(model.components_):\n",
    "        term_list = [feature_names[i]\n",
    "                        for i in topic.argsort()[:-no_top_words - 1:-1]]\n",
    "        print(\"topic %d:\" % (topic_idx), term_list)\n",
    "\n",
    "\n",
    "display_topics(lda_model, tf_feature_names, num_top_words)"
   ]
  },
  {
   "cell_type": "code",
   "execution_count": 126,
   "metadata": {},
   "outputs": [
    {
     "data": {
      "text/plain": [
       "'British Man Who Must Give Police 24 Hours Notice of Sex Threatens Hunger Strike: The man is the subject of a sexual risk order despite having never been convicted of a crime.'"
      ]
     },
     "execution_count": 126,
     "metadata": {},
     "output_type": "execute_result"
    }
   ],
   "source": [
    "headlines_df['News'].iloc[3]"
   ]
  },
  {
   "cell_type": "code",
   "execution_count": 183,
   "metadata": {},
   "outputs": [
    {
     "name": "stdout",
     "output_type": "stream",
     "text": [
      "CPU times: user 7 µs, sys: 2 µs, total: 9 µs\n",
      "Wall time: 64.1 µs\n"
     ]
    }
   ],
   "source": [
    "%%time\n",
    "pipeline_results = pipeline(headline_vectorized, num_topics = [5, 10, 15, 20, 25, 30, 40, 50, 60, 70, 80 ])"
   ]
  },
  {
   "cell_type": "code",
   "execution_count": 169,
   "metadata": {},
   "outputs": [],
   "source": [
    "results_df_mean = pd.DataFrame(pipeline_results)"
   ]
  },
  {
   "cell_type": "code",
   "execution_count": 170,
   "metadata": {},
   "outputs": [
    {
     "data": {
      "text/html": [
       "<div>\n",
       "<style scoped>\n",
       "    .dataframe tbody tr th:only-of-type {\n",
       "        vertical-align: middle;\n",
       "    }\n",
       "\n",
       "    .dataframe tbody tr th {\n",
       "        vertical-align: top;\n",
       "    }\n",
       "\n",
       "    .dataframe thead th {\n",
       "        text-align: right;\n",
       "    }\n",
       "</style>\n",
       "<table border=\"1\" class=\"dataframe\">\n",
       "  <thead>\n",
       "    <tr style=\"text-align: right;\">\n",
       "      <th></th>\n",
       "      <th>5</th>\n",
       "      <th>10</th>\n",
       "      <th>15</th>\n",
       "      <th>20</th>\n",
       "      <th>25</th>\n",
       "      <th>30</th>\n",
       "      <th>40</th>\n",
       "      <th>50</th>\n",
       "      <th>60</th>\n",
       "      <th>70</th>\n",
       "      <th>80</th>\n",
       "    </tr>\n",
       "  </thead>\n",
       "  <tbody>\n",
       "    <tr>\n",
       "      <th>base</th>\n",
       "      <td>0.697675</td>\n",
       "      <td>0.697675</td>\n",
       "      <td>0.697675</td>\n",
       "      <td>0.697675</td>\n",
       "      <td>0.697675</td>\n",
       "      <td>0.697675</td>\n",
       "      <td>0.697675</td>\n",
       "      <td>0.697675</td>\n",
       "      <td>0.697675</td>\n",
       "      <td>0.697675</td>\n",
       "      <td>0.697675</td>\n",
       "    </tr>\n",
       "    <tr>\n",
       "      <th>log_reg</th>\n",
       "      <td>0.679031</td>\n",
       "      <td>0.687358</td>\n",
       "      <td>0.687617</td>\n",
       "      <td>0.693428</td>\n",
       "      <td>0.692749</td>\n",
       "      <td>0.698134</td>\n",
       "      <td>0.697476</td>\n",
       "      <td>0.697675</td>\n",
       "      <td>0.697675</td>\n",
       "      <td>0.697675</td>\n",
       "      <td>0.697675</td>\n",
       "    </tr>\n",
       "    <tr>\n",
       "      <th>rand_for</th>\n",
       "      <td>0.527982</td>\n",
       "      <td>0.585672</td>\n",
       "      <td>0.581772</td>\n",
       "      <td>0.581297</td>\n",
       "      <td>0.589046</td>\n",
       "      <td>0.602531</td>\n",
       "      <td>0.611483</td>\n",
       "      <td>0.605620</td>\n",
       "      <td>0.591412</td>\n",
       "      <td>0.587377</td>\n",
       "      <td>0.629032</td>\n",
       "    </tr>\n",
       "    <tr>\n",
       "      <th>svc</th>\n",
       "      <td>0.636301</td>\n",
       "      <td>0.635286</td>\n",
       "      <td>0.606648</td>\n",
       "      <td>0.600162</td>\n",
       "      <td>0.592221</td>\n",
       "      <td>0.597837</td>\n",
       "      <td>0.595224</td>\n",
       "      <td>0.601258</td>\n",
       "      <td>0.598333</td>\n",
       "      <td>0.616075</td>\n",
       "      <td>0.600395</td>\n",
       "    </tr>\n",
       "    <tr>\n",
       "      <th>xg_boost</th>\n",
       "      <td>0.548105</td>\n",
       "      <td>0.557091</td>\n",
       "      <td>0.543241</td>\n",
       "      <td>0.587457</td>\n",
       "      <td>0.553818</td>\n",
       "      <td>0.558585</td>\n",
       "      <td>0.586494</td>\n",
       "      <td>0.575424</td>\n",
       "      <td>0.568488</td>\n",
       "      <td>0.569987</td>\n",
       "      <td>0.565105</td>\n",
       "    </tr>\n",
       "  </tbody>\n",
       "</table>\n",
       "</div>"
      ],
      "text/plain": [
       "                5         10        15        20        25        30  \\\n",
       "base      0.697675  0.697675  0.697675  0.697675  0.697675  0.697675   \n",
       "log_reg   0.679031  0.687358  0.687617  0.693428  0.692749  0.698134   \n",
       "rand_for  0.527982  0.585672  0.581772  0.581297  0.589046  0.602531   \n",
       "svc       0.636301  0.635286  0.606648  0.600162  0.592221  0.597837   \n",
       "xg_boost  0.548105  0.557091  0.543241  0.587457  0.553818  0.558585   \n",
       "\n",
       "                40        50        60        70        80  \n",
       "base      0.697675  0.697675  0.697675  0.697675  0.697675  \n",
       "log_reg   0.697476  0.697675  0.697675  0.697675  0.697675  \n",
       "rand_for  0.611483  0.605620  0.591412  0.587377  0.629032  \n",
       "svc       0.595224  0.601258  0.598333  0.616075  0.600395  \n",
       "xg_boost  0.586494  0.575424  0.568488  0.569987  0.565105  "
      ]
     },
     "execution_count": 170,
     "metadata": {},
     "output_type": "execute_result"
    }
   ],
   "source": [
    "results_df_mean"
   ]
  },
  {
   "cell_type": "code",
   "execution_count": 181,
   "metadata": {},
   "outputs": [
    {
     "data": {
      "image/png": "[encoded data removed]",
      "text/plain": [
       "<Figure size 432x288 with 1 Axes>"
      ]
     },
     "metadata": {
      "needs_background": "light"
     },
     "output_type": "display_data"
    }
   ],
   "source": [
    "results_df_mean.reindex(sorted(results_df_mean.columns), axis=1).T.plot()\n",
    "plt.xlabel('Number of Topics')\n",
    "plt.ylabel('F1 Score')\n",
    "plt.title('F1 Score Vs. Num. Topics for Various Estimators');"
   ]
  }
 ],
 "metadata": {
  "kernelspec": {
   "display_name": "Python 3 (ipykernel)",
   "language": "python",
   "name": "python3"
  },
  "language_info": {
   "codemirror_mode": {
    "name": "ipython",
    "version": 3
   },
   "file_extension": ".py",
   "mimetype": "text/x-python",
   "name": "python",
   "nbconvert_exporter": "python",
   "pygments_lexer": "ipython3",
   "version": "3.8.12"
  }
 },
 "nbformat": 4,
 "nbformat_minor": 4
}
